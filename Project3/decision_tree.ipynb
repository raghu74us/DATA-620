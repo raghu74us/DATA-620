{
 "cells": [
  {
   "cell_type": "code",
   "execution_count": 1,
   "metadata": {
    "collapsed": true
   },
   "outputs": [],
   "source": [
    "import nltk\n",
    "import random\n",
    "import numpy as np\n",
    "from itertools import repeat\n",
    "from sklearn.model_selection import train_test_split\n",
    "from nltk.corpus import names\n",
    "from sklearn import tree \n"
   ]
  },
  {
   "cell_type": "code",
   "execution_count": 2,
   "metadata": {},
   "outputs": [],
   "source": [
    "#nltk.download('all')"
   ]
  },
  {
   "cell_type": "code",
   "execution_count": 3,
   "metadata": {},
   "outputs": [
    {
     "data": {
      "text/plain": [
       "['female.txt', 'male.txt']"
      ]
     },
     "execution_count": 3,
     "metadata": {},
     "output_type": "execute_result"
    }
   ],
   "source": [
    "# confirm male and female txt files exist\n",
    "names.fileids()"
   ]
  },
  {
   "cell_type": "code",
   "execution_count": 4,
   "metadata": {},
   "outputs": [
    {
     "data": {
      "text/plain": [
       "<WordListCorpusReader in '/Users/dilipganesan/nltk_data/corpora/names'>"
      ]
     },
     "execution_count": 4,
     "metadata": {},
     "output_type": "execute_result"
    }
   ],
   "source": [
    "names"
   ]
  },
  {
   "cell_type": "code",
   "execution_count": 5,
   "metadata": {
    "collapsed": true
   },
   "outputs": [],
   "source": [
    "# load male and female  name files from nltk.names; store in people list\n",
    "males = [n for n in names.words('male.txt')] \n",
    "females = [n for n in names.words('female.txt')] \n",
    "people = males + females\n",
    "\n",
    "# make gender list\n",
    "gender = list(repeat('male',len(males))) + \\\n",
    "list(repeat('female',len(females)))"
   ]
  },
  {
   "cell_type": "code",
   "execution_count": 6,
   "metadata": {},
   "outputs": [
    {
     "data": {
      "text/plain": [
       "{'last': 'k', 'last_two': 'ek'}"
      ]
     },
     "execution_count": 6,
     "metadata": {},
     "output_type": "execute_result"
    }
   ],
   "source": [
    "# extract features\n",
    "def gender_features(word):\n",
    "    features = {}\n",
    "    #features['first_last'] = word[0] + word[-1].lower()\n",
    "    #features['first_two'] = word[0:2]\n",
    "    features['last'] = word[-1].lower()\n",
    "    features['last_two'] = word[-2:].lower()\n",
    "\n",
    "    return(features)\n",
    "\n",
    "\n",
    "gender_features('Shrek')"
   ]
  },
  {
   "cell_type": "code",
   "execution_count": 7,
   "metadata": {
    "collapsed": true
   },
   "outputs": [],
   "source": [
    " #len(features)"
   ]
  },
  {
   "cell_type": "code",
   "execution_count": 8,
   "metadata": {
    "collapsed": true
   },
   "outputs": [],
   "source": [
    "#featuresets = [(gender_features(n), gender) for (n, gender) in labeled_names]\n",
    "#train_set1, test_set1 = featuresets[500:], featuresets[:500]\n"
   ]
  },
  {
   "cell_type": "code",
   "execution_count": 9,
   "metadata": {
    "collapsed": true
   },
   "outputs": [],
   "source": [
    "# split into test and train, with test file containing 1000 samples\n",
    "people_train, people_test, gender_train, gender_test =  \\\n",
    "train_test_split(people, gender, test_size=1000, random_state=4)\n",
    "\n",
    "# split test into two separate components of 500 each: test and devtest\n",
    "people_test, people_devtest, gender_test, gender_devtest = \\\n",
    "train_test_split(people_test, gender_test, test_size=500, random_state=4)\n",
    "\n",
    "# list of tuples, gender features, gender\n",
    "train_set = list(zip(map(gender_features, people_train),gender_train))\n",
    "devtest_set = list(zip(map(gender_features, people_devtest),gender_devtest))\n",
    "test_set = list(zip(map(gender_features, people_test),gender_test))\n",
    "\n",
    "\n",
    "# list of tuples, names, gender\n",
    "train_names = list(zip(people_train,gender_train))\n",
    "devtest_names = list(zip(people_devtest,gender_devtest))\n",
    "test_names = list(zip(people_test, gender_test))"
   ]
  },
  {
   "cell_type": "code",
   "execution_count": 10,
   "metadata": {},
   "outputs": [
    {
     "data": {
      "text/plain": [
       "0.794"
      ]
     },
     "execution_count": 10,
     "metadata": {},
     "output_type": "execute_result"
    }
   ],
   "source": [
    "\n",
    "classifier = nltk.DecisionTreeClassifier.train(train_set)\n",
    "nltk.classify.accuracy(classifier, test_set)\n",
    "\n"
   ]
  },
  {
   "cell_type": "code",
   "execution_count": 11,
   "metadata": {},
   "outputs": [
    {
     "name": "stdout",
     "output_type": "stream",
     "text": [
      "actual, guess, name: \n",
      "\n",
      "('male', 'female', 'Abbie')\n",
      "('male', 'female', 'Clayborne')\n",
      "('male', 'female', 'Reese')\n",
      "('male', 'female', 'Randi')\n",
      "('male', 'female', 'Aguste')\n",
      "('male', 'female', 'Lucien')\n",
      "('male', 'female', 'Jeffry')\n",
      "('male', 'female', 'Davide')\n",
      "('male', 'female', 'Parry')\n",
      "('male', 'female', 'Damien')\n",
      "('female', 'male', 'Karin')\n",
      "('female', 'male', 'Marillin')\n",
      "('female', 'male', 'Sibby')\n",
      "('male', 'female', 'Clarance')\n",
      "('male', 'female', 'Percival')\n",
      "('male', 'female', 'Kennedy')\n",
      "('male', 'female', 'Westbrook')\n",
      "('female', 'male', 'Kim')\n",
      "('male', 'female', 'Arel')\n",
      "('female', 'male', 'Lamb')\n",
      "('male', 'female', 'Morly')\n",
      "('male', 'female', 'Lane')\n",
      "('male', 'female', 'Casey')\n",
      "('male', 'female', 'Tremayne')\n",
      "('female', 'male', 'Ruthy')\n",
      "('male', 'female', 'Michele')\n",
      "('female', 'male', 'Joby')\n",
      "('female', 'male', 'Marian')\n",
      "('male', 'female', 'Kit')\n",
      "('male', 'female', 'Heath')\n",
      "('male', 'female', 'Darien')\n",
      "('female', 'male', 'Joycelin')\n",
      "('female', 'male', 'Chrysler')\n",
      "('male', 'female', 'Terrence')\n",
      "('female', 'male', 'Cyb')\n",
      "('female', 'male', 'Marin')\n",
      "('female', 'male', 'Franky')\n",
      "('female', 'male', 'Quentin')\n",
      "('male', 'female', 'Neale')\n",
      "('male', 'female', 'Gabriele')\n",
      "('male', 'female', 'Ken')\n",
      "('male', 'female', 'Abe')\n",
      "('male', 'female', 'Reza')\n",
      "('male', 'female', 'Donny')\n",
      "('female', 'male', 'Viviyan')\n",
      "('female', 'male', 'Con')\n",
      "('male', 'female', 'Shawn')\n",
      "('male', 'female', 'Hymie')\n",
      "('male', 'female', 'Demetre')\n",
      "('female', 'male', 'Sheril')\n",
      "('male', 'female', 'Noel')\n",
      "('male', 'female', 'Norm')\n",
      "('female', 'male', 'Suzan')\n",
      "('male', 'female', 'Ricki')\n",
      "('female', 'male', 'Flo')\n",
      "('male', 'female', 'Towney')\n",
      "('female', 'male', 'Dorcas')\n",
      "('male', 'female', 'Brice')\n",
      "('female', 'male', 'Fleur')\n",
      "('male', 'female', 'Samuele')\n",
      "('male', 'female', 'Torey')\n",
      "('male', 'female', 'Wiley')\n",
      "('male', 'female', 'Antoni')\n",
      "('male', 'female', 'Chet')\n",
      "('male', 'female', 'Chrissy')\n",
      "('female', 'male', 'Megan')\n",
      "('female', 'male', 'Mureil')\n",
      "('male', 'female', 'Gustaf')\n",
      "('male', 'female', 'Ali')\n",
      "('male', 'female', 'Gordie')\n",
      "('female', 'male', 'Consuelo')\n",
      "('female', 'male', 'Roby')\n",
      "('female', 'male', 'Jeniffer')\n",
      "('male', 'female', 'Theodore')\n",
      "('female', 'male', 'Katlin')\n",
      "('male', 'female', 'Giorgi')\n",
      "('female', 'male', 'Van')\n",
      "('male', 'female', 'Hailey')\n",
      "('male', 'female', 'Enrique')\n",
      "('female', 'male', 'Hester')\n",
      "('male', 'female', 'Stephen')\n",
      "('female', 'male', 'Sinead')\n",
      "('male', 'female', 'Ahmet')\n",
      "('male', 'female', 'Archie')\n",
      "('female', 'male', 'Devin')\n",
      "('female', 'male', 'George')\n",
      "('female', 'male', 'Avril')\n",
      "('male', 'female', 'Allen')\n",
      "('female', 'male', 'Germain')\n",
      "('male', 'female', 'Jodie')\n",
      "('male', 'female', 'Flinn')\n",
      "('male', 'female', 'Paten')\n",
      "('female', 'male', 'Rianon')\n",
      "('male', 'female', 'Lynn')\n",
      "('male', 'female', 'Reggis')\n",
      "('male', 'female', 'Ernie')\n",
      "('female', 'male', 'Charlot')\n",
      "('female', 'male', 'Page')\n",
      "('male', 'female', 'Emanuel')\n",
      "('male', 'female', 'Piggy')\n",
      "('male', 'female', 'Stearne')\n",
      "('male', 'female', 'Uri')\n",
      "('male', 'female', 'Torr')\n",
      "('male', 'female', 'Rickey')\n",
      "('male', 'female', 'Sascha')\n",
      "('male', 'female', 'Hadley')\n",
      "('male', 'female', 'Loren')\n"
     ]
    }
   ],
   "source": [
    " # look at names that were mis-classified\n",
    "errors = []\n",
    "for (name, tag) in devtest_names:\n",
    "    #print(name)\n",
    "    guess = classifier.classify(gender_features(name))\n",
    "    if guess != tag:\n",
    "        errors.append( (tag, guess, name) )\n",
    "\n",
    "print('actual, guess, name: \\n')\n",
    "for x in errors:\n",
    "    print(x)"
   ]
  },
  {
   "cell_type": "code",
   "execution_count": 12,
   "metadata": {},
   "outputs": [
    {
     "data": {
      "text/plain": [
       "'male'"
      ]
     },
     "execution_count": 12,
     "metadata": {},
     "output_type": "execute_result"
    }
   ],
   "source": [
    "classifier.classify(gender_features('Neo'))"
   ]
  },
  {
   "cell_type": "code",
   "execution_count": 13,
   "metadata": {
    "collapsed": true
   },
   "outputs": [],
   "source": [
    "# Changing the Gender(Target Variable) to either 1 or 0 for Classification.\n",
    "gender = [gen.replace('male', '1') for gen in gender]\n",
    "gender = [gen.replace('female', '0') for gen in gender]"
   ]
  },
  {
   "cell_type": "code",
   "execution_count": 14,
   "metadata": {},
   "outputs": [],
   "source": [
    "#gender"
   ]
  },
  {
   "cell_type": "code",
   "execution_count": 15,
   "metadata": {
    "collapsed": true
   },
   "outputs": [],
   "source": [
    "from sklearn import tree\n",
    "import io"
   ]
  },
  {
   "cell_type": "code",
   "execution_count": 16,
   "metadata": {
    "collapsed": true
   },
   "outputs": [],
   "source": [
    "#Splitting the dataset to test and train.\n",
    "X_train, X_test, Y_train, Y_test =  \\\n",
    "train_test_split(people, gender, test_size=0.2, random_state=38)"
   ]
  },
  {
   "cell_type": "code",
   "execution_count": 17,
   "metadata": {
    "collapsed": true
   },
   "outputs": [],
   "source": [
    "#Transforming the X_train string, so it can used in the classifier\n",
    "from sklearn import preprocessing\n",
    "le = preprocessing.LabelEncoder()\n",
    "\n",
    "for i,_ in enumerate(X_train):\n",
    "        X_train[i] = le.fit_transform([i])"
   ]
  },
  {
   "cell_type": "code",
   "execution_count": 19,
   "metadata": {
    "collapsed": true
   },
   "outputs": [],
   "source": [
    "# Decision free Claissifier Fitting.\n",
    "dtree=tree.DecisionTreeClassifier()\n",
    "clf = dtree.fit(X_train,Y_train)"
   ]
  },
  {
   "cell_type": "code",
   "execution_count": 24,
   "metadata": {},
   "outputs": [
    {
     "data": {
      "image/png": "[encoded data removed]",
      "text/plain": [
       "<IPython.core.display.Image object>"
      ]
     },
     "execution_count": 24,
     "metadata": {},
     "output_type": "execute_result"
    }
   ],
   "source": [
    "#Decision Tree Graph.\n",
    "from sklearn.tree import export_graphviz\n",
    "from IPython.display import Image\n",
    "import pydotplus\n",
    "\n",
    "dot_data = io.StringIO()\n",
    "tree.export_graphviz(clf, out_file=dot_data)\n",
    "\n",
    "graph = pydotplus.graph_from_dot_data(dot_data.getvalue())\n",
    "Image(graph.create_png())"
   ]
  },
  {
   "cell_type": "code",
   "execution_count": 0,
   "metadata": {
    "collapsed": true
   },
   "outputs": [],
   "source": []
  }
 ],
 "metadata": {
  "kernelspec": {
   "display_name": "Python 3",
   "language": "python",
   "name": "python3"
  },
  "language_info": {
   "codemirror_mode": {
    "name": "ipython",
    "version": 3
   },
   "file_extension": ".py",
   "mimetype": "text/x-python",
   "name": "python",
   "nbconvert_exporter": "python",
   "pygments_lexer": "ipython3",
   "version": "3.6.1"
  },
  "varInspector": {
   "cols": {
    "lenName": 16,
    "lenType": 16,
    "lenVar": 40
   },
   "kernels_config": {
    "python": {
     "delete_cmd_postfix": "",
     "delete_cmd_prefix": "del ",
     "library": "var_list.py",
     "varRefreshCmd": "print(var_dic_list())"
    },
    "r": {
     "delete_cmd_postfix": ") ",
     "delete_cmd_prefix": "rm(",
     "library": "var_list.r",
     "varRefreshCmd": "cat(var_dic_list()) "
    }
   },
   "types_to_exclude": [
    "module",
    "function",
    "builtin_function_or_method",
    "instance",
    "_Feature"
   ],
   "window_display": false
  }
 },
 "nbformat": 4,
 "nbformat_minor": 1
}
