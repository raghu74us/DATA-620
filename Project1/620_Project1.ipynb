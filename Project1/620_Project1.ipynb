{
 "cells": [
  {
   "cell_type": "markdown",
   "metadata": {},
   "source": [
    "# Assignment 4\n",
    "#### Raghunathan Ramnath and Dilip Ganesan"
   ]
  },
  {
   "cell_type": "markdown",
   "metadata": {},
   "source": [
    "###### Dataset:  Bitcoin Alpha trust weighted signed network\n",
    "\n",
    "This is who-trusts-whom network of people who trade using Bitcoin on a platform called Bitcoin Alpha. \n",
    "Since Bitcoin users are anonymous, there is a need to maintain a record of users' reputation to prevent transactions with fraudulent and risky users. Members of Bitcoin Alpha rate other members in a scale of -10 (total distrust) to +10 (total trust) in steps of 1. This is the first explicit weighted signed directed network available for research.\n",
    "\n",
    "https://snap.stanford.edu/data/soc-sign-bitcoinalpha.html\n",
    "\n"
   ]
  },
  {
   "cell_type": "markdown",
   "metadata": {},
   "source": [
    "##### Project:\n",
    "\n",
    "For the purpose of this project, we will analyze the network, centrality and other characteristics.\n",
    "\n",
    "Nodes: 3,783\n",
    "\n",
    "Edges:  24,186\n",
    "\n",
    "Categorical Variables: Rating is our categorical variable which is numeric and range from -10 to 10. \n",
    "                       We will split the Positive values as one Category and Negative values as another."
   ]
  },
  {
   "cell_type": "markdown",
   "metadata": {},
   "source": [
    "##### Loading: \n",
    "Data is in csv format and will be loaded via python. \n",
    "It has the following four columns \n",
    "\n",
    "SOURCE- The user who is doing the rating.\n",
    "\n",
    "TARGET- The user who is being rated\n",
    "\n",
    "RATING- The rating given to the user\n",
    "\n",
    "TIME- What time the rating actually happened.\n"
   ]
  },
  {
   "cell_type": "code",
   "execution_count": 49,
   "metadata": {},
   "outputs": [],
   "source": [
    "\n",
    "# Loading the packages needed for this project\n",
    "%matplotlib inline\n",
    "import networkx as nx\n",
    "import pandas as pd\n",
    "from scipy import stats\n",
    "import matplotlib\n",
    "import matplotlib.pyplot as plt\n",
    "matplotlib.style.use('ggplot')\n",
    "from __future__ import division\n",
    "from operator import itemgetter\n",
    "from tabulate import tabulate"
   ]
  },
  {
   "cell_type": "code",
   "execution_count": 51,
   "metadata": {},
   "outputs": [],
   "source": [
    "# Reading the data into a pandas data frame\n",
    "bitc_df = pd.read_csv('C:\\cuny\\Fall_2018\\DATA-620\\Project1\\soc-sign-bitcoinalpha.csv',header=None,names=['Source','Target','Rating','Time'])\n",
    "bitc_df = bitc_df.drop(columns = ['Time']) #not required\n"
   ]
  },
  {
   "cell_type": "code",
   "execution_count": 52,
   "metadata": {},
   "outputs": [
    {
     "data": {
      "text/html": [
       "<div>\n",
       "<style scoped>\n",
       "    .dataframe tbody tr th:only-of-type {\n",
       "        vertical-align: middle;\n",
       "    }\n",
       "\n",
       "    .dataframe tbody tr th {\n",
       "        vertical-align: top;\n",
       "    }\n",
       "\n",
       "    .dataframe thead th {\n",
       "        text-align: right;\n",
       "    }\n",
       "</style>\n",
       "<table border=\"1\" class=\"dataframe\">\n",
       "  <thead>\n",
       "    <tr style=\"text-align: right;\">\n",
       "      <th></th>\n",
       "      <th>Source</th>\n",
       "      <th>Target</th>\n",
       "      <th>Rating</th>\n",
       "    </tr>\n",
       "  </thead>\n",
       "  <tbody>\n",
       "    <tr>\n",
       "      <th>0</th>\n",
       "      <td>7188</td>\n",
       "      <td>1</td>\n",
       "      <td>10</td>\n",
       "    </tr>\n",
       "    <tr>\n",
       "      <th>1</th>\n",
       "      <td>430</td>\n",
       "      <td>1</td>\n",
       "      <td>10</td>\n",
       "    </tr>\n",
       "    <tr>\n",
       "      <th>2</th>\n",
       "      <td>3134</td>\n",
       "      <td>1</td>\n",
       "      <td>10</td>\n",
       "    </tr>\n",
       "    <tr>\n",
       "      <th>3</th>\n",
       "      <td>3026</td>\n",
       "      <td>1</td>\n",
       "      <td>10</td>\n",
       "    </tr>\n",
       "    <tr>\n",
       "      <th>4</th>\n",
       "      <td>3010</td>\n",
       "      <td>1</td>\n",
       "      <td>10</td>\n",
       "    </tr>\n",
       "  </tbody>\n",
       "</table>\n",
       "</div>"
      ],
      "text/plain": [
       "   Source  Target  Rating\n",
       "0    7188       1      10\n",
       "1     430       1      10\n",
       "2    3134       1      10\n",
       "3    3026       1      10\n",
       "4    3010       1      10"
      ]
     },
     "execution_count": 52,
     "metadata": {},
     "output_type": "execute_result"
    }
   ],
   "source": [
    "# Quick look at the data\n",
    "bitc_df.head(5)\n"
   ]
  },
  {
   "cell_type": "code",
   "execution_count": 53,
   "metadata": {},
   "outputs": [
    {
     "data": {
      "text/html": [
       "<div>\n",
       "<style scoped>\n",
       "    .dataframe tbody tr th:only-of-type {\n",
       "        vertical-align: middle;\n",
       "    }\n",
       "\n",
       "    .dataframe tbody tr th {\n",
       "        vertical-align: top;\n",
       "    }\n",
       "\n",
       "    .dataframe thead th {\n",
       "        text-align: right;\n",
       "    }\n",
       "</style>\n",
       "<table border=\"1\" class=\"dataframe\">\n",
       "  <thead>\n",
       "    <tr style=\"text-align: right;\">\n",
       "      <th></th>\n",
       "      <th>Source</th>\n",
       "      <th>Target</th>\n",
       "      <th>Rating</th>\n",
       "    </tr>\n",
       "  </thead>\n",
       "  <tbody>\n",
       "    <tr>\n",
       "      <th>24181</th>\n",
       "      <td>7604</td>\n",
       "      <td>7601</td>\n",
       "      <td>10</td>\n",
       "    </tr>\n",
       "    <tr>\n",
       "      <th>24182</th>\n",
       "      <td>7601</td>\n",
       "      <td>7604</td>\n",
       "      <td>10</td>\n",
       "    </tr>\n",
       "    <tr>\n",
       "      <th>24183</th>\n",
       "      <td>7604</td>\n",
       "      <td>7602</td>\n",
       "      <td>10</td>\n",
       "    </tr>\n",
       "    <tr>\n",
       "      <th>24184</th>\n",
       "      <td>7602</td>\n",
       "      <td>7604</td>\n",
       "      <td>10</td>\n",
       "    </tr>\n",
       "    <tr>\n",
       "      <th>24185</th>\n",
       "      <td>7604</td>\n",
       "      <td>7603</td>\n",
       "      <td>-10</td>\n",
       "    </tr>\n",
       "  </tbody>\n",
       "</table>\n",
       "</div>"
      ],
      "text/plain": [
       "       Source  Target  Rating\n",
       "24181    7604    7601      10\n",
       "24182    7601    7604      10\n",
       "24183    7604    7602      10\n",
       "24184    7602    7604      10\n",
       "24185    7604    7603     -10"
      ]
     },
     "execution_count": 53,
     "metadata": {},
     "output_type": "execute_result"
    }
   ],
   "source": [
    "bitc_df.tail(5)"
   ]
  },
  {
   "cell_type": "code",
   "execution_count": 54,
   "metadata": {},
   "outputs": [
    {
     "data": {
      "text/html": [
       "<div>\n",
       "<style scoped>\n",
       "    .dataframe tbody tr th:only-of-type {\n",
       "        vertical-align: middle;\n",
       "    }\n",
       "\n",
       "    .dataframe tbody tr th {\n",
       "        vertical-align: top;\n",
       "    }\n",
       "\n",
       "    .dataframe thead th {\n",
       "        text-align: right;\n",
       "    }\n",
       "</style>\n",
       "<table border=\"1\" class=\"dataframe\">\n",
       "  <thead>\n",
       "    <tr style=\"text-align: right;\">\n",
       "      <th></th>\n",
       "      <th>Source</th>\n",
       "      <th>Target</th>\n",
       "      <th>Rating</th>\n",
       "    </tr>\n",
       "  </thead>\n",
       "  <tbody>\n",
       "    <tr>\n",
       "      <th>count</th>\n",
       "      <td>24186.000000</td>\n",
       "      <td>24186.000000</td>\n",
       "      <td>24186.000000</td>\n",
       "    </tr>\n",
       "    <tr>\n",
       "      <th>mean</th>\n",
       "      <td>864.029314</td>\n",
       "      <td>1051.093815</td>\n",
       "      <td>1.463946</td>\n",
       "    </tr>\n",
       "    <tr>\n",
       "      <th>std</th>\n",
       "      <td>1592.085638</td>\n",
       "      <td>1871.765504</td>\n",
       "      <td>2.903656</td>\n",
       "    </tr>\n",
       "    <tr>\n",
       "      <th>min</th>\n",
       "      <td>1.000000</td>\n",
       "      <td>1.000000</td>\n",
       "      <td>-10.000000</td>\n",
       "    </tr>\n",
       "    <tr>\n",
       "      <th>25%</th>\n",
       "      <td>58.000000</td>\n",
       "      <td>66.000000</td>\n",
       "      <td>1.000000</td>\n",
       "    </tr>\n",
       "    <tr>\n",
       "      <th>50%</th>\n",
       "      <td>238.000000</td>\n",
       "      <td>279.000000</td>\n",
       "      <td>1.000000</td>\n",
       "    </tr>\n",
       "    <tr>\n",
       "      <th>75%</th>\n",
       "      <td>898.000000</td>\n",
       "      <td>1068.000000</td>\n",
       "      <td>2.000000</td>\n",
       "    </tr>\n",
       "    <tr>\n",
       "      <th>max</th>\n",
       "      <td>7604.000000</td>\n",
       "      <td>7604.000000</td>\n",
       "      <td>10.000000</td>\n",
       "    </tr>\n",
       "  </tbody>\n",
       "</table>\n",
       "</div>"
      ],
      "text/plain": [
       "             Source        Target        Rating\n",
       "count  24186.000000  24186.000000  24186.000000\n",
       "mean     864.029314   1051.093815      1.463946\n",
       "std     1592.085638   1871.765504      2.903656\n",
       "min        1.000000      1.000000    -10.000000\n",
       "25%       58.000000     66.000000      1.000000\n",
       "50%      238.000000    279.000000      1.000000\n",
       "75%      898.000000   1068.000000      2.000000\n",
       "max     7604.000000   7604.000000     10.000000"
      ]
     },
     "execution_count": 54,
     "metadata": {},
     "output_type": "execute_result"
    }
   ],
   "source": [
    "bitc_df.describe()"
   ]
  },
  {
   "cell_type": "code",
   "execution_count": 55,
   "metadata": {},
   "outputs": [
    {
     "data": {
      "text/plain": [
       "14124"
      ]
     },
     "execution_count": 55,
     "metadata": {},
     "output_type": "execute_result"
    }
   ],
   "source": [
    "bitc_net = nx.from_pandas_edgelist(bitc_df, source ='Source', target ='Target', edge_attr = 'Rating')\n",
    "bitc_net.number_of_edges()"
   ]
  },
  {
   "cell_type": "code",
   "execution_count": 56,
   "metadata": {},
   "outputs": [
    {
     "data": {
      "text/plain": [
       "3783"
      ]
     },
     "execution_count": 56,
     "metadata": {},
     "output_type": "execute_result"
    }
   ],
   "source": [
    "bitc_net.number_of_nodes()"
   ]
  },
  {
   "cell_type": "code",
   "execution_count": 57,
   "metadata": {},
   "outputs": [
    {
     "data": {
      "image/png": "[encoded data removed]",
      "text/plain": [
       "<matplotlib.figure.Figure at 0x11b7ec01400>"
      ]
     },
     "metadata": {},
     "output_type": "display_data"
    }
   ],
   "source": [
    "epos=[(u,v) for (u,v,d) in bitc_net.edges(data=True) if d['Rating'] >=0]\n",
    "eneg=[(u,v) for (u,v,d) in bitc_net.edges(data=True) if d['Rating'] <0]\n",
    "pos=nx.spring_layout(bitc_net)\n",
    "#plt.subplot(3,1,1)\n",
    "plt.figure(figsize=(17,8))\n",
    "nx.draw_networkx_nodes(bitc_net,pos,node_size=100)\n",
    "\n",
    "# edges\n",
    "nx.draw_networkx_edges(bitc_net,pos,edgelist=epos,\n",
    "                    width=1)\n",
    "nx.draw_networkx_edges(bitc_net,pos,edgelist=eneg,\n",
    "                    width=1,alpha=0.5,edge_color='b',style='dashed')\n",
    "\n",
    "# labels\n",
    "nx.draw_networkx_labels(bitc_net,pos,font_size=11,font_family='sans-serif')\n",
    "\n",
    "plt.axis('off')\n",
    "plt.show()"
   ]
  },
  {
   "cell_type": "markdown",
   "metadata": {},
   "source": [
    "### Degree Centrality\n",
    "\n",
    "Degree centrality, which is defined as the number of links incident upon a node (i.e., the number of ties that a node has). \n"
   ]
  },
  {
   "cell_type": "code",
   "execution_count": 58,
   "metadata": {},
   "outputs": [
    {
     "name": "stdout",
     "output_type": "stream",
     "text": [
      "The maximum degree in the network is: 511\n",
      "The minimum degree in the newowrk is: 1\n"
     ]
    }
   ],
   "source": [
    "deg = nx.degree(bitc_net)\n",
    "deg_list = list(deg)\n",
    "print('The maximum degree in the network is: '+str(max(deg_list,key=itemgetter(1))[1]))\n",
    "print('The minimum degree in the newowrk is: ' +str(min(deg_list,key=itemgetter(1))[1]))"
   ]
  },
  {
   "cell_type": "code",
   "execution_count": 59,
   "metadata": {},
   "outputs": [
    {
     "name": "stdout",
     "output_type": "stream",
     "text": [
      "The number of isolates in the network are: 0\n"
     ]
    }
   ],
   "source": [
    "iso_list = nx.isolates(bitc_net)\n",
    "print('The number of isolates in the network are: '+ str(len(list(iso_list))))"
   ]
  },
  {
   "cell_type": "markdown",
   "metadata": {},
   "source": [
    "### Top 10 list of degree centrality:"
   ]
  },
  {
   "cell_type": "code",
   "execution_count": 65,
   "metadata": {
    "scrolled": true
   },
   "outputs": [
    {
     "name": "stdout",
     "output_type": "stream",
     "text": [
      "+----------+----------+\n",
      "|   UserID |   Degree |\n",
      "+==========+==========+\n",
      "|        1 |      511 |\n",
      "+----------+----------+\n",
      "|        8 |      279 |\n",
      "+----------+----------+\n",
      "|        3 |      263 |\n",
      "+----------+----------+\n",
      "|        2 |      239 |\n",
      "+----------+----------+\n",
      "|       11 |      238 |\n",
      "+----------+----------+\n",
      "|        7 |      234 |\n",
      "+----------+----------+\n",
      "|      177 |      229 |\n",
      "+----------+----------+\n",
      "|        4 |      221 |\n",
      "+----------+----------+\n",
      "|       15 |      213 |\n",
      "+----------+----------+\n",
      "|        5 |      190 |\n",
      "+----------+----------+\n"
     ]
    }
   ],
   "source": [
    "sorted_deg_list = sorted(deg_list, key=lambda tup: tup[1], reverse=True)\n",
    "print(tabulate(sorted_deg_list[0:10], headers = ['UserID', 'Degree'],tablefmt='grid'))"
   ]
  },
  {
   "cell_type": "markdown",
   "metadata": {},
   "source": [
    "###  Top 10 list of closeness:\n",
    "\n",
    "closeness centrality (or closeness) of a node is the average length of the shortest path between the node and all other nodes in the graph. Thus the more central a node is, the closer it is to all other nodes.\n"
   ]
  },
  {
   "cell_type": "code",
   "execution_count": 62,
   "metadata": {
    "scrolled": true
   },
   "outputs": [
    {
     "name": "stdout",
     "output_type": "stream",
     "text": [
      "+----------+-------------+\n",
      "|   UserID |   Closeness |\n",
      "+==========+=============+\n",
      "|        2 |    0.445946 |\n",
      "+----------+-------------+\n",
      "|       11 |    0.437248 |\n",
      "+----------+-------------+\n",
      "|        1 |    0.423481 |\n",
      "+----------+-------------+\n",
      "|       10 |    0.418168 |\n",
      "+----------+-------------+\n",
      "|       22 |    0.412714 |\n",
      "+----------+-------------+\n",
      "|       95 |    0.408019 |\n",
      "+----------+-------------+\n",
      "|        4 |    0.407445 |\n",
      "+----------+-------------+\n",
      "|        9 |    0.405428 |\n",
      "+----------+-------------+\n",
      "|       15 |    0.404513 |\n",
      "+----------+-------------+\n",
      "|       26 |    0.403516 |\n",
      "+----------+-------------+\n"
     ]
    }
   ],
   "source": [
    "close = nx.closeness_centrality(bitc_net)\n",
    "sorted_close = sorted(close.items(), key=itemgetter(1), reverse=True)\n",
    "print(tabulate(sorted_close[0:10], headers = ['UserID', 'Closeness'],tablefmt='grid'))"
   ]
  },
  {
   "cell_type": "markdown",
   "metadata": {},
   "source": [
    "The closeness points that appear in centrality are 2,11,1,4,15."
   ]
  },
  {
   "cell_type": "markdown",
   "metadata": {},
   "source": [
    " ### Top 10 list of betweenness:\n",
    " \n",
    "   Betweenness is a centrality measure of a vertex within a graph. Betweenness centrality quantifies the number of times a node acts as a bridge along the shortest path between two other nodes.\n"
   ]
  },
  {
   "cell_type": "code",
   "execution_count": 63,
   "metadata": {},
   "outputs": [
    {
     "name": "stdout",
     "output_type": "stream",
     "text": [
      "+----------+---------------+\n",
      "|   UserID |   Betweenness |\n",
      "+==========+===============+\n",
      "|        1 |     0.177799  |\n",
      "+----------+---------------+\n",
      "|        2 |     0.0736655 |\n",
      "+----------+---------------+\n",
      "|        8 |     0.0629794 |\n",
      "+----------+---------------+\n",
      "|        4 |     0.0580725 |\n",
      "+----------+---------------+\n",
      "|       11 |     0.0552314 |\n",
      "+----------+---------------+\n",
      "|       15 |     0.0549427 |\n",
      "+----------+---------------+\n",
      "|        3 |     0.049057  |\n",
      "+----------+---------------+\n",
      "|       13 |     0.0420899 |\n",
      "+----------+---------------+\n",
      "|       10 |     0.0400261 |\n",
      "+----------+---------------+\n",
      "|      177 |     0.0388168 |\n",
      "+----------+---------------+\n"
     ]
    }
   ],
   "source": [
    "btwn = nx.betweenness_centrality(bitc_net)\n",
    "sorted_btwn = sorted(btwn.items(), key=itemgetter(1), reverse=True)\n",
    "print(tabulate(sorted_btwn[0:10], headers = ['UserID', 'Betweenness'],tablefmt='grid'))"
   ]
  },
  {
   "cell_type": "markdown",
   "metadata": {},
   "source": [
    "### Top 10 list of Eigenvector:\n",
    "\n",
    "Eigenvector centrality (also called eigencentrality) is a measure of the influence of a node in a network. It assigns relative scores to all nodes in the network based on the concept that connections to high-scoring nodes contribute more to the score of the node in question than equal connections to low-scoring nodes."
   ]
  },
  {
   "cell_type": "code",
   "execution_count": 64,
   "metadata": {
    "scrolled": true
   },
   "outputs": [
    {
     "name": "stdout",
     "output_type": "stream",
     "text": [
      "+----------+----------------+\n",
      "|   UserID |   Eigen Vector |\n",
      "+==========+================+\n",
      "|       11 |       0.193242 |\n",
      "+----------+----------------+\n",
      "|        2 |       0.173989 |\n",
      "+----------+----------------+\n",
      "|      177 |       0.166268 |\n",
      "+----------+----------------+\n",
      "|        3 |       0.158632 |\n",
      "+----------+----------------+\n",
      "|        7 |       0.154777 |\n",
      "+----------+----------------+\n",
      "|        8 |       0.151178 |\n",
      "+----------+----------------+\n",
      "|       26 |       0.147398 |\n",
      "+----------+----------------+\n",
      "|        1 |       0.136455 |\n",
      "+----------+----------------+\n",
      "|       95 |       0.130958 |\n",
      "+----------+----------------+\n",
      "|       24 |       0.129486 |\n",
      "+----------+----------------+\n"
     ]
    }
   ],
   "source": [
    "eigen = nx.eigenvector_centrality(bitc_net)\n",
    "sorted_eigen = sorted(eigen.items(), key=itemgetter(1), reverse=True)\n",
    "print(tabulate(sorted_eigen[0:10], headers = ['UserID', 'Eigen Vector'],tablefmt='grid'))"
   ]
  },
  {
   "cell_type": "markdown",
   "metadata": {},
   "source": [
    "The high degree centrality like 4, 15 and 5 does not appear in the high degree eigen vector list. Conversely high degree of eigen vectors like 26, 95 and 24 does not appear in high degree centrality."
   ]
  },
  {
   "cell_type": "markdown",
   "metadata": {},
   "source": [
    "### Sub-networks by Trust\n",
    "\n",
    "We can now analyze the trust score, -10 to most untrustworthy to +10 for most trustworthy. We will divide the data into two networks: Positive with Ragting > 0  and Negative with Rating <= 0.\n",
    "\n",
    "###  Positive Sub-network.\n",
    "\n",
    "Network with weights > 0."
   ]
  },
  {
   "cell_type": "code",
   "execution_count": 66,
   "metadata": {},
   "outputs": [
    {
     "name": "stdout",
     "output_type": "stream",
     "text": [
      "   Source  Target  Rating\n",
      "0    7188       1      10\n",
      "1     430       1      10\n",
      "2    3134       1      10\n",
      "3    3026       1      10\n",
      "4    3010       1      10\n"
     ]
    }
   ],
   "source": [
    "btc_pos = bitc_df.loc[bitc_df['Rating'] > 0]\n",
    "print(btc_pos.head())"
   ]
  },
  {
   "cell_type": "code",
   "execution_count": 73,
   "metadata": {},
   "outputs": [
    {
     "name": "stdout",
     "output_type": "stream",
     "text": [
      "Number of Edges in the positive network: 12972\n",
      "Number of Node in the positive network: 3683\n",
      "The maximum degree in the network is: 507\n",
      "The minimum degree in the newowrk is: 1\n",
      "+----------+----------+\n",
      "|   UserID |   Degree |\n",
      "+==========+==========+\n",
      "|        1 |      507 |\n",
      "+----------+----------+\n",
      "|        3 |      261 |\n",
      "+----------+----------+\n",
      "|        2 |      234 |\n",
      "+----------+----------+\n",
      "|       11 |      220 |\n",
      "+----------+----------+\n",
      "|        4 |      219 |\n",
      "+----------+----------+\n",
      "|      177 |      202 |\n",
      "+----------+----------+\n",
      "|        7 |      202 |\n",
      "+----------+----------+\n",
      "|       15 |      173 |\n",
      "+----------+----------+\n",
      "|       10 |      173 |\n",
      "+----------+----------+\n",
      "|       26 |      157 |\n",
      "+----------+----------+\n",
      "+----------+----------------+\n",
      "|   UserID |   Eigen Vector |\n",
      "+==========+================+\n",
      "|       11 |       0.196021 |\n",
      "+----------+----------------+\n",
      "|        2 |       0.185214 |\n",
      "+----------+----------------+\n",
      "|        3 |       0.17001  |\n",
      "+----------+----------------+\n",
      "|        1 |       0.152858 |\n",
      "+----------+----------------+\n",
      "|       26 |       0.15275  |\n",
      "+----------+----------------+\n",
      "|        7 |       0.150806 |\n",
      "+----------+----------------+\n",
      "|      177 |       0.149595 |\n",
      "+----------+----------------+\n",
      "|       24 |       0.136887 |\n",
      "+----------+----------------+\n",
      "|       22 |       0.135641 |\n",
      "+----------+----------------+\n",
      "|       10 |       0.131448 |\n",
      "+----------+----------------+\n"
     ]
    }
   ],
   "source": [
    "bitc_pos_net = nx.from_pandas_edgelist(btc_pos, source ='Source', target ='Target', edge_attr = 'Rating')\n",
    "print(\"Number of Edges in the positive network: \"+str(bitc_pos_net.number_of_edges()))\n",
    "print(\"Number of Node in the positive network: \"+str(bitc_pos_net.number_of_nodes()))\n",
    "pos_deg = nx.degree(bitc_pos_net)\n",
    "pos_deg_list = list(pos_deg)\n",
    "print('The maximum degree in the network is: '+str(max(pos_deg_list,key=itemgetter(1))[1]))\n",
    "print('The minimum degree in the newowrk is: ' +str(min(pos_deg_list,key=itemgetter(1))[1]))\n",
    "sorted_pos_deg_list = sorted(pos_deg_list, key=lambda tup: tup[1], reverse=True)\n",
    "print(tabulate(sorted_pos_deg_list[0:10], headers = ['UserID', 'Degree'],tablefmt='grid'))\n",
    "pos_eigen = nx.eigenvector_centrality(bitc_pos_net)\n",
    "sorted_pos_eigen = sorted(pos_eigen.items(), key=itemgetter(1), reverse=True)\n",
    "print(tabulate(sorted_pos_eigen[0:10], headers = ['UserID', 'Eigen Vector'],tablefmt='grid'))\n"
   ]
  },
  {
   "cell_type": "markdown",
   "metadata": {},
   "source": [
    "##### Analyzing:\n",
    "\n",
    "We will analyze the Degreeness, Closeness and Betweenness of users using the NetworkX package and functions.\n",
    "\n",
    "From the documentation, we can understand the edges are classified as positive edges(Trust, Like, Support etc) and negative edges(Dislike, Oppose, Distrust etc.)\n",
    "\n",
    "So we can presume that the TARGET user with lots of positive edges in terms of trust and other parameters establishment will have many connection and centrality.\n",
    "\n",
    "##### Potential Outcomes:\n",
    "\n",
    "1.\tHow the network differs based on ratings?\n",
    "2.\tWhich rating has more density?\n",
    "3.\tWhat does centrality explain for bitcoin?\n",
    "\n",
    "\n",
    "##### References\n",
    "\n",
    "https://snap.stanford.edu/data/soc-sign-bitcoinalpha.html\n",
    "https://cs.stanford.edu/~srijan/pubs/wsn-icdm16.pdf\n",
    "https://cs.stanford.edu/~srijan/wsn/\n"
   ]
  },
  {
   "cell_type": "code",
   "execution_count": null,
   "metadata": {},
   "outputs": [],
   "source": []
  },
  {
   "cell_type": "code",
   "execution_count": null,
   "metadata": {},
   "outputs": [],
   "source": []
  },
  {
   "cell_type": "code",
   "execution_count": null,
   "metadata": {},
   "outputs": [],
   "source": []
  }
 ],
 "metadata": {
  "kernelspec": {
   "display_name": "Python 3",
   "language": "python",
   "name": "python3"
  },
  "language_info": {
   "codemirror_mode": {
    "name": "ipython",
    "version": 3
   },
   "file_extension": ".py",
   "mimetype": "text/x-python",
   "name": "python",
   "nbconvert_exporter": "python",
   "pygments_lexer": "ipython3",
   "version": "3.6.4"
  },
  "varInspector": {
   "cols": {
    "lenName": 16,
    "lenType": 16,
    "lenVar": 40
   },
   "kernels_config": {
    "python": {
     "delete_cmd_postfix": "",
     "delete_cmd_prefix": "del ",
     "library": "var_list.py",
     "varRefreshCmd": "print(var_dic_list())"
    },
    "r": {
     "delete_cmd_postfix": ") ",
     "delete_cmd_prefix": "rm(",
     "library": "var_list.r",
     "varRefreshCmd": "cat(var_dic_list()) "
    }
   },
   "types_to_exclude": [
    "module",
    "function",
    "builtin_function_or_method",
    "instance",
    "_Feature"
   ],
   "window_display": false
  }
 },
 "nbformat": 4,
 "nbformat_minor": 2
}
