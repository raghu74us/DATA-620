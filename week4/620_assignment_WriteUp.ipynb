{
 "cells": [
  {
   "cell_type": "markdown",
   "metadata": {},
   "source": [
    "# Assignment 4\n",
    "#### Raghunathan Ramnath and Dilip Ganesan"
   ]
  },
  {
   "cell_type": "markdown",
   "metadata": {},
   "source": [
    "###### Dataset:  Bitcoin Alpha trust weighted signed network\n",
    "\n",
    "This is who-trusts-whom network of people who trade using Bitcoin on a platform called Bitcoin Alpha. \n",
    "Since Bitcoin users are anonymous, there is a need to maintain a record of users' reputation to prevent transactions with fraudulent and risky users. Members of Bitcoin Alpha rate other members in a scale of -10 (total distrust) to +10 (total trust) in steps of 1. This is the first explicit weighted signed directed network available for research.\n",
    "\n",
    "https://snap.stanford.edu/data/soc-sign-bitcoinalpha.html\n",
    "\n"
   ]
  },
  {
   "cell_type": "markdown",
   "metadata": {},
   "source": [
    "##### Project:\n",
    "\n",
    "For the purpose of this project, we will analyze the network, centrality and other characteristics.\n",
    "\n",
    "Nodes: 3,783\n",
    "\n",
    "Edges:  24,186\n",
    "\n",
    "Categorical Variables: Rating is our categorical variable which is numeric and range from -10 to 10. \n",
    "                       We will split the Positive values as one Category and Negative values as another."
   ]
  },
  {
   "cell_type": "markdown",
   "metadata": {},
   "source": [
    "##### Loading: \n",
    "Data is in csv format and will be loaded via python. \n",
    "It has the following four columns \n",
    "\n",
    "SOURCE- The user who is doing the rating.\n",
    "\n",
    "TARGET- The user who is being rated\n",
    "\n",
    "RATING- The rating given to the user\n",
    "\n",
    "TIME- What time the rating actually happened.\n"
   ]
  },
  {
   "cell_type": "markdown",
   "metadata": {},
   "source": [
    "##### Analyzing:\n",
    "\n",
    "We will analyze the Degreeness, Closeness and Betweenness of users using the NetworkX package and functions.\n",
    "\n",
    "From the documentation, we can understand the edges are classified as positive edges(Trust, Like, Support etc) and negative edges(Dislike, Oppose, Distrust etc.)\n",
    "\n",
    "So we can presume that the TARGET user with lots of positive edges in terms of trust and other parameters establishment will have many connection and centrality.\n",
    "\n",
    "##### Potential Outcomes:\n",
    "\n",
    "1.\tHow the network differs based on ratings?\n",
    "2.\tWhich rating has more density?\n",
    "3.\tWhat does centrality explain for bitcoin?\n",
    "\n",
    "\n",
    "##### References\n",
    "\n",
    "https://snap.stanford.edu/data/soc-sign-bitcoinalpha.html\n",
    "https://cs.stanford.edu/~srijan/pubs/wsn-icdm16.pdf\n",
    "https://cs.stanford.edu/~srijan/wsn/\n"
   ]
  },
  {
   "cell_type": "code",
   "execution_count": null,
   "metadata": {
    "collapsed": true
   },
   "outputs": [],
   "source": []
  }
 ],
 "metadata": {
  "kernelspec": {
   "display_name": "Python 3",
   "language": "python",
   "name": "python3"
  },
  "language_info": {
   "codemirror_mode": {
    "name": "ipython",
    "version": 3
   },
   "file_extension": ".py",
   "mimetype": "text/x-python",
   "name": "python",
   "nbconvert_exporter": "python",
   "pygments_lexer": "ipython3",
   "version": "3.6.4"
  },
  "varInspector": {
   "cols": {
    "lenName": 16,
    "lenType": 16,
    "lenVar": 40
   },
   "kernels_config": {
    "python": {
     "delete_cmd_postfix": "",
     "delete_cmd_prefix": "del ",
     "library": "var_list.py",
     "varRefreshCmd": "print(var_dic_list())"
    },
    "r": {
     "delete_cmd_postfix": ") ",
     "delete_cmd_prefix": "rm(",
     "library": "var_list.r",
     "varRefreshCmd": "cat(var_dic_list()) "
    }
   },
   "types_to_exclude": [
    "module",
    "function",
    "builtin_function_or_method",
    "instance",
    "_Feature"
   ],
   "window_display": false
  }
 },
 "nbformat": 4,
 "nbformat_minor": 2
}
